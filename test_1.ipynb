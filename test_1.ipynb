{
 "cells": [
  {
   "cell_type": "code",
   "execution_count": null,
   "metadata": {},
   "outputs": [],
   "source": [
    "from app.src.modules.graph.factory import BuilderFactory\n",
    "\n",
    "# from app.src.settings.main import settings\n",
    "# from app.src.modules.node.types import NodePassInOutput\n",
    "# import asyncio\n",
    "\n",
    "# Ensure BuilderFactory returns an async-compatible graph\n",
    "builder = BuilderFactory.test_1()\n",
    "graph = builder.exec()\n",
    "\n",
    "# # Ensure NodePassInOutput is correctly instantiated with a string type\n",
    "# in_ = NodePassInOutput[str](data=\"app/pdf/sp/cnd_fazenda.pdf\")\n",
    "\n",
    "\n",
    "# # Run the async function properly\n",
    "# async def run_graph():\n",
    "#     result = await graph.ainvoke(in_)\n",
    "#     print(\"Graph Output:\", result)\n",
    "\n",
    "\n",
    "# # Execute the async function\n",
    "# asyncio.run(run_graph())"
   ]
  }
 ],
 "metadata": {
  "kernelspec": {
   "display_name": "env.nosync",
   "language": "python",
   "name": "python3"
  },
  "language_info": {
   "name": "python",
   "version": "3.11.11"
  }
 },
 "nbformat": 4,
 "nbformat_minor": 2
}
