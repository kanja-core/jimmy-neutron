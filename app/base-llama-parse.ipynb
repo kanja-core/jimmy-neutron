{
 "cells": [
  {
   "cell_type": "markdown",
   "metadata": {},
   "source": [
    "# Model Setup"
   ]
  },
  {
   "cell_type": "code",
   "execution_count": 1,
   "metadata": {},
   "outputs": [],
   "source": [
    "from langchain_openai import ChatOpenAI\n",
    "from dotenv import load_dotenv\n",
    "\n",
    "load_dotenv();"
   ]
  },
  {
   "cell_type": "code",
   "execution_count": 2,
   "metadata": {},
   "outputs": [],
   "source": [
    "import os, getpass\n",
    "\n",
    "def _set_env(var: str):\n",
    "    if not os.environ.get(var):\n",
    "        os.environ[var] = getpass.getpass(f\"{var}: \")\n",
    "\n",
    "_set_env(\"OPENAI_API_KEY\")\n",
    "_set_env(\"OPENAI_API_BASE\")\n",
    "_set_env(\"OPENAI_MODEL\")\n",
    "_set_env(\"LLAMAPARSE_API_KEY\")"
   ]
  },
  {
   "cell_type": "code",
   "execution_count": 3,
   "metadata": {},
   "outputs": [],
   "source": [
    "OPENAI_API_KEY = os.environ.get(\"OPENAI_API_KEY\")\n",
    "OPENAI_API_BASE = os.environ.get(\"OPENAI_API_BASE\")\n",
    "OPENAI_MODEL = os.environ.get(\"OPENAI_MODEL\")\n",
    "LLAMAPARSE_API_KEY=os.environ.get(\"LLAMAPARSE_API_KEY\")"
   ]
  },
  {
   "cell_type": "code",
   "execution_count": 4,
   "metadata": {},
   "outputs": [],
   "source": [
    "llm = ChatOpenAI(\n",
    "    model=os.environ.get(\"OPENAI_MODEL\"),\n",
    "    openai_api_key=OPENAI_API_KEY,\n",
    "    openai_api_base=OPENAI_API_BASE,\n",
    "    max_tokens=1024\n",
    ")"
   ]
  },
  {
   "cell_type": "markdown",
   "metadata": {},
   "source": [
    "# PDF extractor Setup"
   ]
  },
  {
   "cell_type": "code",
   "execution_count": 5,
   "metadata": {},
   "outputs": [],
   "source": [
    "from llama_parse import LlamaParse\n",
    "\n",
    "parser = LlamaParse(\n",
    "    api_key=LLAMAPARSE_API_KEY,\n",
    "    result_type=\"text\",  # \"markdown\" and \"text\" are available\n",
    "    verbose=False,\n",
    "    fast_mode=True,\n",
    ")"
   ]
  },
  {
   "cell_type": "code",
   "execution_count": 6,
   "metadata": {},
   "outputs": [
    {
     "name": "stderr",
     "output_type": "stream",
     "text": [
      "Parsing files:   0%|          | 0/6 [00:00<?, ?it/s]"
     ]
    },
    {
     "name": "stdout",
     "output_type": "stream",
     "text": [
      "WARNING: parsing_instruction is deprecated. Use complemental_formatting_instruction or content_guideline_instruction instead.\n",
      "WARNING: parsing_instruction is deprecated. Use complemental_formatting_instruction or content_guideline_instruction instead.\n",
      "WARNING: parsing_instruction is deprecated. Use complemental_formatting_instruction or content_guideline_instruction instead.\n",
      "WARNING: parsing_instruction is deprecated. Use complemental_formatting_instruction or content_guideline_instruction instead.\n"
     ]
    },
    {
     "name": "stderr",
     "output_type": "stream",
     "text": [
      "Parsing files:  17%|█▋        | 1/6 [00:03<00:16,  3.32s/it]"
     ]
    },
    {
     "name": "stdout",
     "output_type": "stream",
     "text": [
      "WARNING: parsing_instruction is deprecated. Use complemental_formatting_instruction or content_guideline_instruction instead.\n",
      "WARNING: parsing_instruction is deprecated. Use complemental_formatting_instruction or content_guideline_instruction instead.\n"
     ]
    },
    {
     "name": "stderr",
     "output_type": "stream",
     "text": [
      "Parsing files: 100%|██████████| 6/6 [00:26<00:00,  4.40s/it]"
     ]
    },
    {
     "name": "stdout",
     "output_type": "stream",
     "text": [
      "[Document(id_='89171994-2036-4fda-b517-d77404f24df4', embedding=None, metadata={}, excluded_embed_metadata_keys=[], excluded_llm_metadata_keys=[], relationships={}, metadata_template='{key}: {value}', metadata_separator='\\n', text_resource=MediaResource(embeddings=None, data=None, text='Modelo de Certidão Negativa – Automática\\n                                                                NPF 104/2014\\n\\n                                                                   Estado do Paraná\\n                                                Secretaria de Estado da Fazenda\\n PARANA                                       Coordenação da Receita do Estado\\n GOVERNO DO ESTADO\\n    Secletaria da Fazenda\\n                                                      Certidão Negativa\\n                                  de Débitos Tributários e de Dívida Ativa Estadual\\n                                                           Nº NNNNNNNN-DD\\nCertidão fornecida para o (CNPJ/MF, CPF/MF):\\nNome: com 150 posições exigidas pelo Cadastro Sincronizado\\n\\n            Ressalvado        o   direito     da   Fazenda        Pública      Estadual       inscrever      e   cobrar      débitos   ainda    não\\nregistrados ou que venham a ser apurados, certificamos que, verificando os registros da Secretaria de\\nEstado da Fazenda, constatamos não existir pendências em nome do contribuinte acima identificado,\\nnesta data.\\n\\nObs.:     (para    CPF)      Esta     Certidão      engloba       pendências         do   próprio     CPF      ou    pelas     quais   tenha   sido\\nresponsabilizado           e   refere-se       a   débitos      de     natureza       tributária     e    não     tributária,     bem    como    ao\\ndescumprimento de obrigações tributárias acessórias.\\n                                              OU\\n        (para CNPJ) Esta Certidão engloba todos os estabelecimentos da empresa e refere-se a débitos de\\nnatureza tributária e não tributária, bem como ao descumprimento de obrigações tributárias acessórias.\\n\\n                               Válida até DD/MM/AAAA – Fornecimento gratuito\\n                             A autenticidade desta certidão deverá ser confirmada via Internet                                                       www.fazenda.pr.gov.br\\nPágina 1 de 1\\nEmitido via nnnnnnnnn (dd/mm/aaaa hh:mm:ss) por', path=None, url=None, mimetype=None), image_resource=None, audio_resource=None, video_resource=None, text_template='{metadata_str}\\n\\n{content}'), Document(id_='98963d03-769a-46cd-8273-004c9a08ec8d', embedding=None, metadata={}, excluded_embed_metadata_keys=[], excluded_llm_metadata_keys=[], relationships={}, metadata_template='{key}: {value}', metadata_separator='\\n', text_resource=MediaResource(embeddings=None, data=None, text='Modelo de Certidão Negativa – Autorizada\\n                                                    NPF 104/2014\\n\\n                                                      Estado do Paraná\\n                                       Secretaria de Estado da Fazenda\\n PARANA                               Coordenação da Receita do Estado\\n  GOVERNO DO ESTADO\\n    Secletaria da Fazenda\\n                                            Certidão Negativa\\n                            de Débitos Tributários e de Dívida Ativa Estadual\\n                                                Nº NNNNNNNN-DD\\nCertidão fornecida para o (CNPJ/MF, CPF/MF):\\nNome: com 150 posições exigidas pelo Cadastro Sincronizado\\n\\n          Ressalvado     o  direito  da   Fazenda    Pública    Estadual    inscrever   e  cobrar   débitos   ainda   não\\nregistrados ou que venham a ser apurados, certificamos que, verificando os registros da Secretaria de\\nEstado da Fazenda, constatamos não existir pendências em nome do contribuinte acima identificado,\\nnesta data.\\n\\nObs.:   (para   CPF)    Esta   Certidão   engloba    pendências     do   próprio  CPF     ou  pelas   quais   tenha   sido\\nresponsabilizado      e   refere-se   a   débitos   de   natureza    tributária  e   não   tributária,  bem    como     ao\\ndescumprimento de obrigações tributárias acessórias.\\n                                      OU\\n        (para CNPJ) Esta Certidão engloba todos os estabelecimentos da empresa e refere-se a débitos\\nde   natureza    tributária  e  não   tributária,  bem    como    ao   descumprimento       de   obrigações    tributárias\\nacessórias.\\n\\nJustificativa:\\n\\n                         Válida até DD/MM/AAAA – Fornecimento gratuito\\n                        A autenticidade desta certidão deverá ser confirmada via Internet                                   www.fazenda.pr.gov.br\\n                    Certidão emitida com autorização do funcionário que a subscreve.\\n\\n                                                                               Local de emissão, DD/MM/AAAA.\\n\\n                                                                (assinatura AF) ---------------------------------------\\n                                                                                 (NOME DO AUDITOR FISCAL)\\nPágina 1 de 1\\nEmitido via nnnnnnnnn (dd/mm/aaaa hh:mm:ss) por', path=None, url=None, mimetype=None), image_resource=None, audio_resource=None, video_resource=None, text_template='{metadata_str}\\n\\n{content}'), Document(id_='060d84c8-ec9a-48c6-a881-004d7bf99649', embedding=None, metadata={}, excluded_embed_metadata_keys=[], excluded_llm_metadata_keys=[], relationships={}, metadata_template='{key}: {value}', metadata_separator='\\n', text_resource=MediaResource(embeddings=None, data=None, text='Modelo de Certidão Positiva com Efeito de Negativa – Automática\\n                                                   NPF 104/2014\\n\\n                                                  Estado do Paraná\\n                                   Secretaria de Estado da Fazenda\\n PARANA                           Coordenação da Receita do Estado\\n  GOVERNO DO ESTADO\\n    Secletaria da Fazenda\\n                                           Certidão Positiva\\n                            de Débitos Tributários e de Dívida Ativa Estadual\\n                                  com Efeitos de Negativa\\n                                                 (Art. 206 do CTN)\\n                                               Nº NNNNNNNN-DD\\nCertidão fornecida para o (CNPJ/MF, CPF/MF):\\nNome: com 150 posições exigidas pelo Cadastro Sincronizado\\n\\n          Ressalvado     o  direito  da  Fazenda     Pública   Estadual    inscrever   e   cobrar   débitos   ainda   não\\nregistrados ou que venham a ser apurados, certificamos que, verificando os registros da Secretaria de\\nEstado    da   Fazenda,    constatamos     existir  pendências     cadastradas    em   nome do      contribuinte   acima\\nidentificado, nesta data, as quais estão com a exigibilidade suspensa nos termos dos incisos II, III e/ou\\nVI, do art. 151, do Código Tributário Nacional (Lei 5.172/1966).\\n\\nObs.:   (para   CPF)    Esta   Certidão   engloba    pendências     do  próprio   CPF    ou  pelas   quais   tenha   sido\\nresponsabilizado      e  refere-se    a  débitos    de   natureza    tributária  e   não   tributária,  bem    como    ao\\ndescumprimento de obrigações tributárias acessórias.\\n                                     OU\\n        (para CNPJ) Esta Certidão engloba todos os estabelecimentos da empresa                    e refere-se a débitos\\nde   natureza    tributária  e  não   tributária,  bem    como    ao   descumprimento      de   obrigações     tributárias\\nacessórias.\\n\\n                         Válida até DD/MM/AAAA – Fornecimento gratuito\\n                        A autenticidade desta certidão deverá ser confirmada via Internet                                   www.fazenda.pr.gov.br\\nPágina 1 de 1\\nEmitido via nnnnnnnnn (dd/mm/aaaa hh:mm:ss) por', path=None, url=None, mimetype=None), image_resource=None, audio_resource=None, video_resource=None, text_template='{metadata_str}\\n\\n{content}'), Document(id_='b7dda91f-7419-4c6b-ab0f-ea4e94ff910d', embedding=None, metadata={}, excluded_embed_metadata_keys=[], excluded_llm_metadata_keys=[], relationships={}, metadata_template='{key}: {value}', metadata_separator='\\n', text_resource=MediaResource(embeddings=None, data=None, text='Modelo de Certidão Positiva com Efeito de Negativa – Autorizada\\n                                                                                     NPF 104/2014\\n\\n\\n\\nPARANA\\n GOVERNO DO ESTADO\\n    Secletaria da Fazenda\\n\\n                    Estado do Paraná\\n  Secretaria de Estado da Fazenda\\nCoordenação da Receita do Estado\\n\\n\\n           Certidão Positiva\\n                                                       de Débitos Tributários e de Dívida Ativa Estadual\\n                                                               com Efeitos de Negativa\\n                                                                                  (Art. 206 do CTN)\\n                                                                                Nº NNNNNNNN-DD\\n                     Certidão fornecida para o (CNPJ/MF, CPF/MF):\\n                     Nome: com 150 posições exigidas pelo Cadastro Sincronizado\\n\\n                                Ressalvado         o   direito    da    Fazenda        Pública      Estadual       inscrever      e   cobrar      débitos     ainda     não\\n                     registrados ou que venham a ser apurados, certificamos que, verificando os registros da Secretaria de\\n                     Estado      da    Fazenda,       constatamos          existir   pendências         cadastradas         em    nome do         contribuinte       acima\\n                     identificado, nesta data, as quais estão (justificativa e complementação justificativa).\\n\\n                     Obs.:     (para    CPF)      Esta     Certidão      engloba       pendências        do    próprio     CPF      ou    pelas    quais     tenha      sido\\n                     responsabilizado           e   refere-se       a   débitos      de     natureza       tributária     e    não    tributária,     bem       como      ao\\n                     descumprimento de obrigações tributárias acessórias.\\n                                                                   OU\\n                              (para CNPJ) Esta Certidão engloba todos os estabelecimentos da empresa e refere-se a débitos\\n                     de    natureza       tributária     e   não    tributária,     bem      como      ao    descumprimento            de    obrigações        tributárias\\n                     acessórias.\\n\\n                                                    Válida até DD/MM/AAAA – Fornecimento gratuito\\n                                                  A autenticidade desta certidão deverá ser confirmada via Internet                                                           www.fazenda.pr.gov.br\\n                                                 Certidão emitida com autorização do funcionário que a subscreve.\\n\\n                                                                                                                            Local de emissão, DD/MM/AAAA.\\n\\n                                                                                                           (assinatura AF) ---------------------------------------\\n                                                                                                                          (NOME DO AUDITOR FISCAL)\\n                     Página 1 de 1\\n                     Emitido via nnnnnnnnn (dd/mm/aaaa hh:mm:ss) por', path=None, url=None, mimetype=None), image_resource=None, audio_resource=None, video_resource=None, text_template='{metadata_str}\\n\\n{content}'), Document(id_='c0da631a-1dd9-488b-bd70-eb13aa339118', embedding=None, metadata={}, excluded_embed_metadata_keys=[], excluded_llm_metadata_keys=[], relationships={}, metadata_template='{key}: {value}', metadata_separator='\\n', text_resource=MediaResource(embeddings=None, data=None, text='Modelo de Certidão Positiva – Autorizada\\n                                                   NPF 104/2014\\n\\n                                                 Estado do Paraná\\n                                   Secretaria de Estado da Fazenda\\nPARANA                           Coordenação da Receita do Estado\\n GOVERNO DO ESTADO\\n   Secletaria da Fazenda\\n                                          Certidão Positiva\\n                           de Débitos Tributários e de Dívida Ativa Estadual\\n                                               Nº NNNNNNNN-DD\\nCertidão fornecida para o (CNPJ/MF, CPF/MF):\\nNome: com 150 posições exigidas pelo Cadastro Sincronizado\\n\\n         Ressalvado     o  direito  da   Fazenda     Pública   Estadual    inscrever    e  cobrar   débitos   ainda   não\\nregistrados ou que venham a ser apurados, certificamos que, verificando os registros da Secretaria de\\nEstado da Fazenda, constatamos existir as seguintes pendências cadastradas em nome do contribuinte\\nacima identificado, nesta data.\\n\\nObs.:  (para   CPF)    Esta   Certidão    engloba    pendências     do  próprio   CPF    ou   pelas  quais   tenha    sido\\nresponsabilizado     e   refere-se   a   débitos    de   natureza    tributária  e   não   tributária,  bem    como     ao\\ndescumprimento de obrigações tributárias acessórias.\\n                                     ou\\n    (para CNPJ) Esta Certidão engloba todos os estabelecimentos da empresa e refere-se a débitos de\\nnatureza tributária e não tributária, bem como ao descumprimento de obrigações tributárias acessórias.\\n\\n               Origem das Pendências                         Quantidade                   Valor em Reais\\nGIA/ICMS Omissa                                                            0\\nGIA/ICMS Inadimplente                                                      0                                             0\\nProcesso Administrativo Fiscal                                             0                                             0\\nDívida Ativa                                                               0                                             0\\nParcelamento                                                               0                                             0\\nIPVA                                                                       0                                             0\\nOmissão Arquivo Magnético                                                  0\\nOmissão EFD                                                                0\\nSituação Irregular no CAD/ICMS                                   SIM/NÃO\\nTotal                                                                      0                                             0\\n\\n                         Válida até DD/MM/AAAA – Fornecimento gratuito\\n                       A autenticidade desta certidão deverá ser confirmada via Internet                                    www.fazenda.pr.gov.br\\n                   Certidão emitida com autorização do funcionário que a subscreve.\\n\\n                                                                               Local de emissão, DD/MM/AAAA.\\n\\n                                                                (assinatura AF) --------------------------------------\\n                                                                              (NOME DO AUDITOR FISCAL)\\nPágina 1 de 1\\nEmitido via nnnnnnnnn (dd/mm/aaaa hh:mm:ss) por', path=None, url=None, mimetype=None), image_resource=None, audio_resource=None, video_resource=None, text_template='{metadata_str}\\n\\n{content}'), Document(id_='717b234b-ba7e-49d2-bcc7-2719997c227b', embedding=None, metadata={}, excluded_embed_metadata_keys=[], excluded_llm_metadata_keys=[], relationships={}, metadata_template='{key}: {value}', metadata_separator='\\n', text_resource=MediaResource(embeddings=None, data=None, text='S MP         Secretaria da Fazenda e Planejamento do Estado\\n                                             de São Paulo\\n\\n    Débitos Tributários Não Inscritos na Dívida Ativa do Estado de São Paulo\\n\\n   CPF: 527.281.628-59\\n\\n   Ressalvado o direito da Secretaria da Fazenda e Planejamento do Estado de São Paulo\\n   de apurar débitos de responsabilidade da pessoa física acima identificada, é certificado\\n   que não constam débitos declarados ou apurados pendentes de inscrição na Dívida                         SIp\\n   Ativa de responsabilidade do interessado. Tratando-se de CERTIDÃO emitida para\\n   pessoa física, não é pesquisado na base de dados se existe débito para pessoa jurídica\\n   da qual o interessado é sócio.\\n                         BRRASHL\\n    Certidão nº                        25010999469-66\\n\\n    Data e hora da emissão              27/01/2025 14:30:57\\n\\n    Validade                           6 (seis) meses, contados da data de sua expedição.\\n\\n    Qualquer rasura ou emenda invalidará este documento.\\n\\n    A aceitação desta certidão está condicionada à verificação de sua autenticidade no sítio\\n    www.pfe.fazenda.sp.gov.br\\n\\n                                                                                             Folha 1 de 1', path=None, url=None, mimetype=None), image_resource=None, audio_resource=None, video_resource=None, text_template='{metadata_str}\\n\\n{content}')]\n"
     ]
    },
    {
     "name": "stderr",
     "output_type": "stream",
     "text": [
      "\n"
     ]
    }
   ],
   "source": [
    "file_paths = [\n",
    "  \"/Users/paulochade/Documents/projects/kanja/dev/main/engine/notebooks/cert/pdf/pr/Certidao_Modelo_Negativa_1.pdf\",\n",
    "  \"/Users/paulochade/Documents/projects/kanja/dev/main/engine/notebooks/cert/pdf/pr/Certidao_Modelo_Negativa_2.pdf\",\n",
    "  \"/Users/paulochade/Documents/projects/kanja/dev/main/engine/notebooks/cert/pdf/pr/Certidao_Modelo_Positiva_Suspensa_1.pdf\",\n",
    "  \"/Users/paulochade/Documents/projects/kanja/dev/main/engine/notebooks/cert/pdf/pr/Certidao_Modelo_Positiva_Suspensa_2.pdf\",\n",
    "  \"/Users/paulochade/Documents/projects/kanja/dev/main/engine/notebooks/cert/pdf/pr/Certidao_Modelo_Positiva.pdf\",\n",
    "  \"/Users/paulochade/Documents/projects/kanja/dev/main/engine/notebooks/cert/pdf/sp/cnd_fazenda.pdf\",\n",
    "]\n",
    "\n",
    "documents = await parser.aload_data(file_paths)\n",
    "print(documents)"
   ]
  },
  {
   "cell_type": "code",
   "execution_count": 7,
   "metadata": {},
   "outputs": [],
   "source": [
    "contents = [doc.text_resource.text for doc in documents if doc.text_resource]"
   ]
  },
  {
   "cell_type": "markdown",
   "metadata": {},
   "source": [
    "# Extractor setup"
   ]
  },
  {
   "cell_type": "code",
   "execution_count": 8,
   "metadata": {},
   "outputs": [],
   "source": [
    "from typing import Optional, Literal\n",
    "from datetime import datetime, date\n",
    "from langchain_core.prompts import ChatPromptTemplate, MessagesPlaceholder\n",
    "from pydantic import BaseModel, Field\n",
    "from langchain_openai import ChatOpenAI"
   ]
  },
  {
   "cell_type": "code",
   "execution_count": 9,
   "metadata": {},
   "outputs": [],
   "source": [
    "class TaxCertificate(BaseModel):\n",
    "    \"\"\"Information extracted from a São Paulo state tax certificate (Certidão de Débitos).\"\"\"\n",
    "\n",
    "    cpf: Optional[str] = Field(\n",
    "        default=None, \n",
    "        description=\"\"\"\n",
    "            The CPF number in format XXX.XXX.XXX-XX.\n",
    "            It should only contain numbers from 0-9 or the letter X\n",
    "            If not Sure, leave blank\n",
    "        \"\"\"\n",
    "    )\n",
    "    debt_exists: Optional[Literal[\"negative\", \"positive\", \"positive_suspended\"]] = Field(\n",
    "        default=None, \n",
    "        description=\"\"\"\n",
    "            Extract if there are any debts, looking for:\n",
    "            * positive: ('constam débitos', positiva);\n",
    "            * negative: ('não constam débitos', negativa);\n",
    "            * positive_suspended: (positiva mas com efeito de negativa).\n",
    "            FILL WITH one of the above options.\n",
    "            IF NOT SURE, leave blank\n",
    "        \"\"\"\n",
    "    )\n",
    "    issuance_date: Optional[str] = Field(\n",
    "        default=None,\n",
    "        description=\"\"\"\n",
    "            The date when the certificate was issued in format DD/MM/YYYY.\n",
    "            Look for 'Data e hora da emissão' or similar phrases.\n",
    "            IF NOT SURE, leave blank\n",
    "        \"\"\"\n",
    "    )\n",
    "    validity_date: Optional[str] = Field(\n",
    "        default=None,\n",
    "        description=\"\"\"\n",
    "            The expiration date of the certificate in format DD/MM/YYYY.\n",
    "            This can be either explicitly stated in the document or calculated by adding\n",
    "            the validity period to the issuance date. For example, if issued on 10/08/2010\n",
    "            with validity of 8 months, the validity date would be 10/04/2011.\n",
    "            IF NOT SURE, leave blank\n",
    "        \"\"\"\n",
    "    )\n",
    "    certificate_number: Optional[str] = Field(\n",
    "        default=None, \n",
    "        description=\"\"\"\n",
    "            The certificate number (número da certidão).\n",
    "            It should only contain numbers from 0-9, and a maximun of one dash ('-') caracter.\n",
    "            IF NOT SURE, leave blank\n",
    "        \"\"\"\n",
    "    )\n",
    "\n",
    "    @staticmethod\n",
    "    def parse_date(date_str: Optional[str]) -> Optional[str]:\n",
    "        \"\"\"Parses a string in DD/MM/YYYY format and validates it.\"\"\"\n",
    "        if date_str:\n",
    "            try:\n",
    "                # Ensure the date is valid and properly formatted\n",
    "                parsed_date = datetime.strptime(date_str, \"%d/%m/%Y\")\n",
    "                return parsed_date.strftime(\"%d/%m/%Y\")\n",
    "            except ValueError:\n",
    "                return None\n",
    "        return None\n",
    "\n",
    "\n",
    "    def __init__(self, **data):\n",
    "        if 'issuance_date' in data:\n",
    "            data['issuance_date'] = self.parse_date(data.get('issuance_date'))\n",
    "        if 'validity_date' in data:\n",
    "            data['validity_date'] = self.parse_date(data.get('validity_date'))\n",
    "        super().__init__(**data)"
   ]
  },
  {
   "cell_type": "code",
   "execution_count": null,
   "metadata": {},
   "outputs": [],
   "source": [
    "# Define custom prompt template\n",
    "prompt_template = ChatPromptTemplate.from_messages(\n",
    "    [\n",
    "        (\n",
    "            \"system\",\n",
    "            \"You are an expert at extracting information from Brazilian tax certificates. \"\n",
    "            \"Extract only the specific information requested. \"\n",
    "            \"Return null if you cannot find the information with certainty. \"\n",
    "            \"For the debt_status, look specifically for phrases like 'constam débitos' or 'não constam débitos'. \"\n",
    "            \"For CPF, ensure it's in the correct format with dots and dash.\"\n",
    "            \"For certificate_number, ensure that it only has one '-' dash caracter and no whitespaces\"\n",
    "        ),\n",
    "        (\"human\", \"{text}\"),\n",
    "    ]\n",
    ")\n",
    "\n",
    "structured_llm = llm.with_structured_output(schema=TaxCertificate)"
   ]
  },
  {
   "cell_type": "code",
   "execution_count": 11,
   "metadata": {},
   "outputs": [
    {
     "name": "stdout",
     "output_type": "stream",
     "text": [
      "cpf=None debt_exists='negative' issuance_date=None validity_date=None certificate_number='NNNNNNNN-DD'\n",
      "cpf=None debt_exists='negative' issuance_date=None validity_date=None certificate_number='NNNNNNNN-DD'\n",
      "cpf=None debt_exists='positive_suspended' issuance_date=None validity_date=None certificate_number='NNNNNNNN-DD'\n",
      "cpf=None debt_exists='positive_suspended' issuance_date=None validity_date=None certificate_number='NNNNNNNN-DD'\n",
      "cpf=None debt_exists='positive' issuance_date=None validity_date=None certificate_number='NNNNNNNN-DD'\n",
      "cpf='527.281.628-59' debt_exists='negative' issuance_date='27/01/2025' validity_date='27/07/2025' certificate_number='25010999469-66'\n"
     ]
    }
   ],
   "source": [
    "for content in contents:\n",
    "    result = structured_llm.invoke(content)\n",
    "    print(result)   "
   ]
  }
 ],
 "metadata": {
  "kernelspec": {
   "display_name": "kanja-langchain-notebooks",
   "language": "python",
   "name": "kanja-langchain-notebooks"
  },
  "language_info": {
   "codemirror_mode": {
    "name": "ipython",
    "version": 3
   },
   "file_extension": ".py",
   "mimetype": "text/x-python",
   "name": "python",
   "nbconvert_exporter": "python",
   "pygments_lexer": "ipython3",
   "version": "3.11.11"
  }
 },
 "nbformat": 4,
 "nbformat_minor": 2
}
