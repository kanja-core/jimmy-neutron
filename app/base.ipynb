{
 "cells": [
  {
   "cell_type": "markdown",
   "metadata": {},
   "source": [
    "# Model Setup"
   ]
  },
  {
   "cell_type": "code",
   "execution_count": 1,
   "metadata": {},
   "outputs": [],
   "source": [
    "from langchain_openai import ChatOpenAI\n",
    "from dotenv import load_dotenv\n",
    "\n",
    "load_dotenv();"
   ]
  },
  {
   "cell_type": "code",
   "execution_count": 2,
   "metadata": {},
   "outputs": [],
   "source": [
    "import os, getpass\n",
    "\n",
    "def _set_env(var: str):\n",
    "    if not os.environ.get(var):\n",
    "        os.environ[var] = getpass.getpass(f\"{var}: \")\n",
    "\n",
    "_set_env(\"OPENAI_API_KEY\")\n",
    "_set_env(\"OPENAI_API_BASE\")\n",
    "_set_env(\"OPENAI_MODEL\")"
   ]
  },
  {
   "cell_type": "code",
   "execution_count": 3,
   "metadata": {},
   "outputs": [],
   "source": [
    "OPENAI_API_KEY = os.environ.get(\"OPENAI_API_KEY\")\n",
    "OPENAI_API_BASE = os.environ.get(\"OPENAI_API_BASE\")\n",
    "OPENAI_MODEL = os.environ.get(\"OPENAI_MODEL\")"
   ]
  },
  {
   "cell_type": "code",
   "execution_count": 4,
   "metadata": {},
   "outputs": [],
   "source": [
    "llm = ChatOpenAI(\n",
    "    model=os.environ.get(\"OPENAI_MODEL\"),\n",
    "    openai_api_key=OPENAI_API_KEY,\n",
    "    openai_api_base=OPENAI_API_BASE,\n",
    "    max_tokens=1024\n",
    ")"
   ]
  },
  {
   "cell_type": "markdown",
   "metadata": {},
   "source": [
    "# PDF extractor Setup"
   ]
  },
  {
   "cell_type": "code",
   "execution_count": 5,
   "metadata": {},
   "outputs": [],
   "source": [
    "from langchain_community.document_loaders import PyPDFLoader"
   ]
  },
  {
   "cell_type": "code",
   "execution_count": 55,
   "metadata": {},
   "outputs": [
    {
     "name": "stdout",
     "output_type": "stream",
     "text": [
      "[' \\nPágina 1 de 1 \\nEmitido via nnnnnnnnn (dd/mm/aaaa hh:mm:ss) por \\n \\n \\n Certidão Positiva \\n de Débitos Tributários e de Dívida Ativa Estadual  \\ncom Efeitos de Negativa \\n (Art. 206 do CTN) \\nNº NNNNNNN N-DD \\n \\n \\n \\n \\nCertidão fornecida para o (CNPJ/MF, CPF/MF): \\nNome: com 150 posições exigidas pelo Cadastro Sincronizado \\n \\n \\nRessalvado o direito da Fazenda Pública Estadual inscrever e cobrar débitos ainda não \\nregistrados ou que venham a ser apurados, certificamos que, verificando os registros da Secretaria de \\nEstado da Fazenda, constatamos existir pendências cadastradas em nome do contribuinte acima \\nidentificado, nesta data, as quais estão com a exigibilidade suspensa nos termos dos incisos II, III e/ou \\nVI, do art. 151, do Código Tributário Nacional (Lei 5.172/1966).  \\n \\nObs.: (para CPF) Esta Certidão engloba pendências do próprio CPF ou pelas quais tenha sido \\nresponsabilizado e refere -se a débitos de natureza tributária e não tributária, bem como ao \\ndescumprimento de obrigações tributárias acessórias.  \\n    OU \\n          (para CNPJ) Esta Certidão engloba todos os estabelecimentos da empresa  e refere -se a débitos \\nde natureza tributária e não tributária, bem como ao descumprimento de obrigações tributárias \\nacessórias.   \\n \\n \\nVálida até DD/MM/AAAA – Fornecimento gratuito \\n \\n \\n \\nA autenticidade desta certidão deverá ser confirmada via Internet  \\nwww.fazenda.pr.gov.br \\n \\n \\n \\n \\n \\n \\n \\n \\n \\nEstado do Paraná \\nSecretaria de Estado da Fazenda \\nCoordenação da Receita do Estado \\nModelo de Certidão Positiva com Efeito de Negativa – Automática \\nNPF 104/2014 \\n ', ' \\nPágina 1 de 1 \\nEmitido via nnnnnnnnn (dd/mm/aaaa hh:mm:ss) por \\n \\n \\n Certidão Positiva \\n de Débitos Tributários e de Dívida Ativa Estadual  \\ncom Efeitos de Negativa \\n (Art. 206 do CTN) \\nNº NNNNNNNN -DD \\n \\n \\n \\nCertidão fornecida para o (CNPJ/MF, CPF/MF): \\nNome: com 150 posições exigidas pelo Cadastro Sincronizado  \\n \\n \\nRessalvado o direito da Fazenda Pública Estadual inscrever e cobrar débitos ai nda não \\nregistrados ou que venham a ser apurados, certificamos que, verificando os registros da Secretaria de \\nEstado da Fazenda, constatamos existir pendências cadastradas em nome do contribuinte acima \\nidentificado, nesta data, as quais estão (justificativa e complementação justificativa). \\n \\nObs.: (para CPF) Esta Certidão engloba pendências do próprio CPF ou pelas quais tenha sido \\nresponsabilizado e refere -se a débitos de natureza tributária e não tributária, bem como ao \\ndescumprimento de obrigações tributárias acessórias.  \\n    OU \\n          (para CNPJ) Esta Certidão engloba todos os estabelecimentos da empresa e refere -se a débitos \\nde natureza tributária e não tributária, bem como ao descumprimento de obrigações tributárias \\nacessórias.   \\n \\nVálida até DD/MM/AAAA – Fornecimento gratuito \\n \\n \\nA autenticidade desta certidão deverá ser confirmada via Internet  \\nwww.fazenda.pr.gov.br \\n \\n \\nCertidão emitida com autorização do funcionário que a subscreve.  \\n \\n \\n \\n \\n                                                                                                                 Local de emissão, DD/MM/AAAA. \\n \\n \\n       \\n                                                                                               (assinatura AF) --------------------------------------- \\n                                                                                                    (NOME DO AUDITOR FISCAL) \\nEstado do Paraná \\nSecretaria de Estado da Fazenda \\nCoordenação da Receita do Estado \\nModelo de Certidão Positiva com Efeito de Negativa – Autorizada \\nNPF 104/2014 \\n ', ' \\nPágina 1 de 1 \\nEmitido via nnnnnnnnn (dd/mm/aaaa hh:mm:ss) por \\n \\n \\n Certidão Positiva \\n de Débitos Tributários e de Dívida Ativa Estadual  \\nNº NNNNNNNN -DD \\n \\n \\nCertidão fornecida para o (CNPJ/MF, CPF/MF): \\nNome: com 150 posições exigidas pelo Cadastro Sincronizado \\n \\n Ressalvado o direito da Fazenda Pública Estadual inscrever e cobrar débitos ainda não \\nregistrados ou que venham a ser apurados, certificamos que, verificando os registros da Secretaria de \\nEstado da Fazenda, constatamos existir as seguintes pendências cadastradas em nome do contribuinte \\nacima identificado, nesta data. \\n \\nObs.: (para CPF) Esta Certidão engloba pendências do próprio CPF ou pelas quais tenha sido \\nresponsabilizado e refere -se a débitos de natureza tributária e não tributária, bem como ao \\ndescumprimento de obrigações tributárias acessórias.  \\n    ou \\n      (para CNPJ) Esta Certidão engloba todos os estabelecimentos da empresa e refere -se a débitos de \\nnatureza tributária e não tributária, bem como ao descumprimento de obrigações tributárias acessórias.   \\n \\nOrigem das Pendências Quantidade Valor em Reais \\nGIA/ICMS Omissa 0  \\nGIA/ICMS Inadimplente 0 0 \\nProcesso Administrativo Fiscal  0 0 \\nDívida Ativa  0 0 \\nParcelamento 0 0 \\nIPVA  0 0 \\nOmissão Arquivo Magnético 0  \\nOmissão EFD 0  \\nSituação Irregular no CAD/ICMS SIM/NÃO   \\nTotal 0 0 \\n \\nVálida até DD/MM/AAAA – Fornecimento gratuito \\n \\n \\nA autenticidade desta certidão deverá ser confirmada via Internet  \\nwww.fazenda.pr.gov.br \\n \\nCertidão emitida com autorização do funcionário que a subscreve. \\n \\n             Local de emissão, DD/MM/AAAA. \\n \\n \\n                                       (assinatura AF) -------------------------------------- \\n     (NOME DO AUDITOR FISCAL) \\nEstado do Paraná \\nSecretaria de Estado da Fazenda \\nCoordenação da Receita do Estado \\nModelo de Certidão Positiva – Autorizada \\nNPF 104/2014 \\n ', 'CPF: 527.281.628-59\\nRessalvado o direito da Secretaria da Fazenda e Planejamento do Estado de São Paulo \\nde apurar débitos de responsabilidade da pessoa física acima identificada, é certificado \\nque \\nnão constam débitos\\n declarados ou apurados pendentes de inscrição na Dívida \\nAtiva de responsabilidade do interessado. Tratando-se de CERTIDÃO emitida para \\npessoa física, não é pesquisado na base de dados se existe débito para pessoa jurídica \\nda qual o interessado é sócio.\\nDébitos Tributários Não Inscritos na Dívida Ativa do Estado de São Paulo\\nData e hora da emissão\\nCertidão nº\\nValidade\\nQualquer rasura ou emenda invalidará este documento.\\nA aceitação desta certidão está condicionada à verificação de sua autenticidade no sítio \\nwww.pfe.fazenda.sp.gov.br\\n25010999469-66\\n27/01/2025 14:30:57\\n6 (seis) meses, contados da data de sua expedição\\n.\\nFolha 1 de 1\\nSecretaria da Fazenda e Planejamento do Estado \\nde São Paulo\\n']\n"
     ]
    }
   ],
   "source": [
    "file_paths = [\n",
    "  # \"/Users/paulochade/Documents/projects/kanja/dev/main/engine/notebooks/cert/pdf/pr/Certidao_Modelo_Negativa_1.pdf\",\n",
    "  # \"/Users/paulochade/Documents/projects/kanja/dev/main/engine/notebooks/cert/pdf/pr/Certidao_Modelo_Negativa_2.pdf\",\n",
    "  \"/Users/paulochade/Documents/projects/kanja/dev/main/engine/notebooks/cert/pdf/pr/Certidao_Modelo_Positiva_Suspensa_1.pdf\",\n",
    "  \"/Users/paulochade/Documents/projects/kanja/dev/main/engine/notebooks/cert/pdf/pr/Certidao_Modelo_Positiva_Suspensa_2.pdf\",\n",
    "  \"/Users/paulochade/Documents/projects/kanja/dev/main/engine/notebooks/cert/pdf/pr/Certidao_Modelo_Positiva.pdf\",\n",
    "  \"/Users/paulochade/Documents/projects/kanja/dev/main/engine/notebooks/cert/pdf/sp/cnd_fazenda.pdf\",\n",
    "]\n",
    "\n",
    "contents = []\n",
    "for file_path in file_paths:\n",
    "    loader = PyPDFLoader(file_path)\n",
    "    docs = loader.load()\n",
    "    # Combine all pages of current PDF into one string\n",
    "    pdf_content = \"\\n\\n\".join([doc.page_content for doc in docs])\n",
    "    contents.append(pdf_content)\n",
    "\n",
    "print(contents)"
   ]
  },
  {
   "cell_type": "markdown",
   "metadata": {},
   "source": [
    "# Extractor setup"
   ]
  },
  {
   "cell_type": "code",
   "execution_count": 36,
   "metadata": {},
   "outputs": [],
   "source": [
    "from typing import Optional, Literal\n",
    "from datetime import datetime, date\n",
    "from langchain_core.prompts import ChatPromptTemplate, MessagesPlaceholder\n",
    "from pydantic import BaseModel, Field\n",
    "from langchain_openai import ChatOpenAI"
   ]
  },
  {
   "cell_type": "code",
   "execution_count": 52,
   "metadata": {},
   "outputs": [],
   "source": [
    "class TaxCertificate(BaseModel):\n",
    "    \"\"\"Information extracted from a São Paulo state tax certificate (Certidão de Débitos).\"\"\"\n",
    "\n",
    "    cpf: Optional[str] = Field(\n",
    "        default=None, \n",
    "        description=\"\"\"\n",
    "            The CPF number in format XXX.XXX.XXX-XX.\n",
    "            It should only contain numbers from 0-9 or the letter X\n",
    "            If not Sure, leave blank\n",
    "        \"\"\"\n",
    "    )\n",
    "    debt_exists: Optional[Literal[\"negative\", \"positive\", \"positive_suspended\"]] = Field(\n",
    "        default=None, \n",
    "        description=\"\"\"\n",
    "            Extract if there are any debts, looking for:\n",
    "            * positive: ('constam débitos', positiva);\n",
    "            * negative: ('não constam débitos', negativa);\n",
    "            * positive_suspended: (positiva mas com efeito de negativa).\n",
    "            FILL WITH one of the above options.\n",
    "            IF NOT SURE, leave blank\n",
    "        \"\"\"\n",
    "    )\n",
    "    issuance_date: Optional[str] = Field(\n",
    "        default=None,\n",
    "        description=\"\"\"\n",
    "            The date when the certificate was issued in format DD/MM/YYYY.\n",
    "            Look for 'Data e hora da emissão' or similar phrases.\n",
    "            IF NOT SURE, leave blank\n",
    "        \"\"\"\n",
    "    )\n",
    "    validity_date: Optional[str] = Field(\n",
    "        default=None,\n",
    "        description=\"\"\"\n",
    "            The expiration date of the certificate in format DD/MM/YYYY.\n",
    "            This can be either explicitly stated in the document or calculated by adding\n",
    "            the validity period to the issuance date. For example, if issued on 10/08/2010\n",
    "            with validity of 8 months, the validity date would be 10/04/2011.\n",
    "            IF NOT SURE, leave blank\n",
    "        \"\"\"\n",
    "    )\n",
    "    certificate_number: Optional[str] = Field(\n",
    "        default=None, \n",
    "        description=\"\"\"\n",
    "            The certificate number (número da certidão).\n",
    "            It should only contain numbers from 0-9, and a maximun of one dash ('-') caracter.\n",
    "            IF NOT SURE, leave blank\n",
    "        \"\"\"\n",
    "    )\n",
    "\n",
    "    @staticmethod\n",
    "    def parse_date(date_str: Optional[str]) -> Optional[str]:\n",
    "        \"\"\"Parses a string in DD/MM/YYYY format and validates it.\"\"\"\n",
    "        if date_str:\n",
    "            try:\n",
    "                # Ensure the date is valid and properly formatted\n",
    "                parsed_date = datetime.strptime(date_str, \"%d/%m/%Y\")\n",
    "                return parsed_date.strftime(\"%d/%m/%Y\")\n",
    "            except ValueError:\n",
    "                return None\n",
    "        return None\n",
    "\n",
    "\n",
    "    def __init__(self, **data):\n",
    "        if 'issuance_date' in data:\n",
    "            data['issuance_date'] = self.parse_date(data.get('issuance_date'))\n",
    "        if 'validity_date' in data:\n",
    "            data['validity_date'] = self.parse_date(data.get('validity_date'))\n",
    "        super().__init__(**data)"
   ]
  },
  {
   "cell_type": "code",
   "execution_count": 53,
   "metadata": {},
   "outputs": [],
   "source": [
    "# Define custom prompt template\n",
    "prompt_template = ChatPromptTemplate.from_messages(\n",
    "    [\n",
    "        (\n",
    "            \"system\",\n",
    "            \"You are an expert at extracting information from Brazilian tax certificates. \"\n",
    "            \"Extract only the specific information requested. \"\n",
    "            \"Return null if you cannot find the information with certainty. \"\n",
    "            \"For the debt_status, look specifically for phrases like 'constam débitos' or 'não constam débitos'. \"\n",
    "            \"For CPF, ensure it's in the correct format with dots and dash.\"\n",
    "            \"For certificate_number, ensure that it only has one '-' dash caracter and no whitespaces\"\n",
    "        ),\n",
    "        (\"human\", \"{text}\"),\n",
    "    ]\n",
    ")\n",
    "\n",
    "structured_llm = llm.with_structured_output(schema=TaxCertificate)"
   ]
  },
  {
   "cell_type": "code",
   "execution_count": 54,
   "metadata": {},
   "outputs": [
    {
     "name": "stdout",
     "output_type": "stream",
     "text": [
      "cpf=None debt_exists='negative' issuance_date=None validity_date=None certificate_number='NNNNNNNN-DD'\n",
      "cpf=None debt_exists='negative' issuance_date=None validity_date=None certificate_number='NNNNNNNN-DD'\n",
      "cpf=None debt_exists='positive_suspended' issuance_date=None validity_date=None certificate_number='NNNNNNNN-N-DD'\n",
      "cpf=None debt_exists='positive_suspended' issuance_date=None validity_date=None certificate_number='NNNNNNNNN-DD'\n",
      "cpf='X' debt_exists='positive' issuance_date=None validity_date=None certificate_number='NNNNNNNN-DD'\n",
      "cpf='527.281.628-59' debt_exists='negative' issuance_date='27/01/2025' validity_date='27/07/2025' certificate_number='25010999469-66'\n"
     ]
    }
   ],
   "source": [
    "for content in contents:\n",
    "    result = structured_llm.invoke(content)\n",
    "    print(result)   "
   ]
  },
  {
   "cell_type": "code",
   "execution_count": null,
   "metadata": {},
   "outputs": [],
   "source": []
  },
  {
   "cell_type": "code",
   "execution_count": null,
   "metadata": {},
   "outputs": [],
   "source": []
  }
 ],
 "metadata": {
  "kernelspec": {
   "display_name": "kanja-langchain-notebooks",
   "language": "python",
   "name": "kanja-langchain-notebooks"
  },
  "language_info": {
   "codemirror_mode": {
    "name": "ipython",
    "version": 3
   },
   "file_extension": ".py",
   "mimetype": "text/x-python",
   "name": "python",
   "nbconvert_exporter": "python",
   "pygments_lexer": "ipython3",
   "version": "3.11.11"
  }
 },
 "nbformat": 4,
 "nbformat_minor": 2
}
